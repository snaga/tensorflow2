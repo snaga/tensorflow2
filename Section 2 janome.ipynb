{
 "cells": [
  {
   "cell_type": "markdown",
   "metadata": {},
   "source": [
    "## janome"
   ]
  },
  {
   "cell_type": "code",
   "execution_count": 1,
   "metadata": {},
   "outputs": [],
   "source": [
    "from janome.tokenizer import Tokenizer"
   ]
  },
  {
   "cell_type": "code",
   "execution_count": 2,
   "metadata": {},
   "outputs": [],
   "source": [
    "t = Tokenizer()"
   ]
  },
  {
   "cell_type": "code",
   "execution_count": 3,
   "metadata": {},
   "outputs": [
    {
     "name": "stdout",
     "output_type": "stream",
     "text": [
      "すもも\t名詞,一般,*,*,*,*,すもも,スモモ,スモモ\n",
      "も\t助詞,係助詞,*,*,*,*,も,モ,モ\n",
      "もも\t名詞,一般,*,*,*,*,もも,モモ,モモ\n",
      "も\t助詞,係助詞,*,*,*,*,も,モ,モ\n",
      "もも\t名詞,一般,*,*,*,*,もも,モモ,モモ\n",
      "の\t助詞,連体化,*,*,*,*,の,ノ,ノ\n",
      "うち\t名詞,非自立,副詞可能,*,*,*,うち,ウチ,ウチ\n"
     ]
    }
   ],
   "source": [
    "for token in t.tokenize(u'すもももももももものうち'):\n",
    "    print(token)"
   ]
  },
  {
   "cell_type": "markdown",
   "metadata": {},
   "source": [
    "## 青空文庫"
   ]
  },
  {
   "cell_type": "code",
   "execution_count": 4,
   "metadata": {},
   "outputs": [],
   "source": [
    "import zipfile\n",
    "import os.path\n",
    "import urllib.request as request"
   ]
  },
  {
   "cell_type": "code",
   "execution_count": 5,
   "metadata": {},
   "outputs": [],
   "source": [
    "request.urlretrieve('http://www.aozora.gr.jp/cards/000081/files/462_ruby_716.zip', '462_ruby_716.zip')\n",
    "z = zipfile.ZipFile('462_ruby_716.zip', 'r')\n",
    "file = z.open('kazeno_matasaburo.txt', 'r')\n",
    "bindata = file.read()"
   ]
  },
  {
   "cell_type": "code",
   "execution_count": 6,
   "metadata": {},
   "outputs": [],
   "source": [
    "lines = bindata.decode('shift_jis').split('\\r\\n')"
   ]
  },
  {
   "cell_type": "code",
   "execution_count": 7,
   "metadata": {},
   "outputs": [
    {
     "name": "stdout",
     "output_type": "stream",
     "text": [
      "594 lines\n"
     ]
    }
   ],
   "source": [
    "print(\"{0} lines\".format(len(lines)))\n",
    "worddic = {}\n",
    "for l in lines:\n",
    "    for tt in t.tokenize(l):\n",
    "        if tt.part_of_speech.find('名詞') < 0:\n",
    "            continue\n",
    "        if tt.surface not in worddic:\n",
    "            worddic[tt.surface] = 0\n",
    "        worddic[tt.surface] += 1"
   ]
  },
  {
   "cell_type": "code",
   "execution_count": 8,
   "metadata": {},
   "outputs": [
    {
     "name": "stdout",
     "output_type": "stream",
     "text": [
      "みんな (167)\n",
      "三郎 (135)\n",
      "の (134)\n",
      "よう (114)\n",
      "一郎 (91)\n",
      "嘉助 (88)\n",
      "一 (83)\n",
      "人 (69)\n",
      "それ (62)\n",
      "先生 (61)\n",
      "馬 (56)\n",
      "年生 (53)\n",
      "ほう (48)\n",
      "二 (47)\n",
      "郎 (47)\n",
      "三 (44)\n",
      "風 (39)\n",
      "中 (39)\n",
      "助 (39)\n",
      "前 (37)\n",
      "耕 (37)\n",
      "木 (36)\n",
      "水 (36)\n",
      "上 (35)\n",
      "ん (33)\n",
      "草 (32)\n",
      "何 (32)\n",
      "顔 (26)\n",
      "手 (26)\n",
      "さん (25)\n",
      "ろ (25)\n",
      "ら (25)\n",
      "目 (25)\n",
      "とき (25)\n",
      "向こう (24)\n",
      "そう (24)\n",
      "子 (23)\n",
      "佐太郎 (23)\n",
      "教室 (22)\n",
      "うし (22)\n",
      "下 (22)\n",
      "五 (21)\n",
      "ところ (20)\n",
      "こと (20)\n",
      "おら (19)\n",
      "さ (19)\n",
      "そこ (19)\n",
      "栗 (18)\n",
      "机 (18)\n",
      "四 (18)\n"
     ]
    }
   ],
   "source": [
    "keys = sorted(worddic.items(), key = lambda x: x[1], reverse=True)\n",
    "for w, c in keys[:50]:\n",
    "    print(\"{0} ({1})\\n\".format(w, c), end=\"\")"
   ]
  },
  {
   "cell_type": "markdown",
   "metadata": {},
   "source": [
    "## 青空文庫 - 吾輩は猫である"
   ]
  },
  {
   "cell_type": "code",
   "execution_count": 9,
   "metadata": {},
   "outputs": [],
   "source": [
    "request.urlretrieve('http://www.aozora.gr.jp/cards/000148/files/789_ruby_5639.zip', '789_ruby_5639.zip')\n",
    "z = zipfile.ZipFile('789_ruby_5639.zip', 'r')\n",
    "file = z.open('wagahaiwa_nekodearu.txt', 'r')\n",
    "bindata = file.read()\n",
    "lines = bindata.decode('shift_jis').split('\\r\\n')"
   ]
  },
  {
   "cell_type": "code",
   "execution_count": 10,
   "metadata": {},
   "outputs": [
    {
     "name": "stdout",
     "output_type": "stream",
     "text": [
      "2375 lines\n"
     ]
    }
   ],
   "source": [
    "print(\"{0} lines\".format(len(lines)))\n",
    "worddic = {}\n",
    "for l in lines:\n",
    "    for tt in t.tokenize(l):\n",
    "        if tt.part_of_speech.find('名詞') < 0:\n",
    "            continue\n",
    "        if tt.surface not in worddic:\n",
    "            worddic[tt.surface] = 0\n",
    "        worddic[tt.surface] += 1"
   ]
  },
  {
   "cell_type": "code",
   "execution_count": 11,
   "metadata": {},
   "outputs": [
    {
     "name": "stdout",
     "output_type": "stream",
     "text": [
      "の (1645)\n",
      "事 (1205)\n",
      "もの (1004)\n",
      "主人 (934)\n",
      "君 (905)\n",
      "ん (784)\n",
      "よう (722)\n",
      "人 (601)\n",
      "御 (567)\n",
      "一 (561)\n",
      "何 (542)\n",
      "吾輩 (483)\n",
      "これ (426)\n",
      "それ (385)\n",
      "時 (345)\n",
      "上 (327)\n",
      "傍点 (319)\n",
      "三 (315)\n",
      "方 (314)\n",
      "ところ (313)\n",
      "二 (304)\n",
      "さん (291)\n",
      "寒月 (286)\n",
      "そう (283)\n",
      "顔 (283)\n",
      "人間 (272)\n",
      "僕 (268)\n",
      "中 (256)\n",
      "気 (255)\n",
      "猫 (250)\n",
      "［＃「 (242)\n",
      "十 (235)\n",
      "先生 (233)\n",
      "迷亭 (229)\n",
      "うち (227)\n",
      "い (214)\n",
      "細君 (213)\n",
      "鼻 (203)\n",
      "め (203)\n",
      "今 (200)\n",
      "者 (196)\n",
      "大 (195)\n",
      "お (188)\n",
      "ご (187)\n",
      "ら (181)\n",
      "自分 (175)\n",
      "頭 (169)\n",
      "間 (161)\n",
      "ここ (160)\n",
      "前 (159)\n"
     ]
    }
   ],
   "source": [
    "keys = sorted(worddic.items(), key = lambda x: x[1], reverse=True)\n",
    "for w, c in keys[:50]:\n",
    "    print(\"{0} ({1})\\n\".format(w, c), end=\"\")"
   ]
  },
  {
   "cell_type": "code",
   "execution_count": null,
   "metadata": {},
   "outputs": [],
   "source": []
  }
 ],
 "metadata": {
  "kernelspec": {
   "display_name": "Python 3",
   "language": "python",
   "name": "python3"
  },
  "language_info": {
   "codemirror_mode": {
    "name": "ipython",
    "version": 3
   },
   "file_extension": ".py",
   "mimetype": "text/x-python",
   "name": "python",
   "nbconvert_exporter": "python",
   "pygments_lexer": "ipython3",
   "version": "3.6.3"
  }
 },
 "nbformat": 4,
 "nbformat_minor": 2
}
